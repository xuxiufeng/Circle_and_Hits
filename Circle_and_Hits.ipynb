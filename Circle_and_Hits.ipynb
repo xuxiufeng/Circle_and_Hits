{
  "nbformat": 4,
  "nbformat_minor": 0,
  "metadata": {
    "colab": {
      "name": "Circle and Hits.ipynb",
      "provenance": [],
      "authorship_tag": "ABX9TyO1QEacdxvpZPJS5Ko7MYNl",
      "include_colab_link": true
    },
    "kernelspec": {
      "name": "python3",
      "display_name": "Python 3"
    },
    "language_info": {
      "name": "python"
    }
  },
  "cells": [
    {
      "cell_type": "markdown",
      "metadata": {
        "id": "view-in-github",
        "colab_type": "text"
      },
      "source": [
        "<a href=\"https://colab.research.google.com/github/xuxiufeng/Circle_and_Hits/blob/main/Circle_and_Hits.ipynb\" target=\"_parent\"><img src=\"https://colab.research.google.com/assets/colab-badge.svg\" alt=\"Open In Colab\"/></a>"
      ]
    },
    {
      "cell_type": "code",
      "execution_count": 90,
      "metadata": {
        "id": "1fvVKK9RIfCh"
      },
      "outputs": [],
      "source": [
        "import matplotlib.pyplot as plt\n",
        "import numpy as np"
      ]
    },
    {
      "cell_type": "markdown",
      "source": [
        "* n_dots: the number of dots\n",
        "* cx, cy: the center point of the circle\n",
        "* R: radius of circle"
      ],
      "metadata": {
        "id": "nbzNVnM9auhn"
      }
    },
    {
      "cell_type": "code",
      "source": [
        "def Circle(n_dots, cx, cy, R): \n",
        "  angles = np.linspace(0, 2*np.pi, n_dots)  # angles to the dots\n",
        "  x, y = [], []    # for coordinates of points to plot\n",
        "\n",
        "  for ang in angles:\n",
        "      # compute (x,y) for each point\n",
        "      x1 = cx + R*np.cos(ang)\n",
        "      y1 = cy + R*np.sin(ang)\n",
        "      x.append(x1)   # collect x\n",
        "      y.append(y1)   # collect y\n",
        "  return x, y"
      ],
      "metadata": {
        "id": "KH2iWxt-Ys-S"
      },
      "execution_count": 91,
      "outputs": []
    },
    {
      "cell_type": "code",
      "source": [
        "x, y = Circle(200, 0 , 0, 20)"
      ],
      "metadata": {
        "id": "yBLX9wUScaa-"
      },
      "execution_count": 92,
      "outputs": []
    },
    {
      "cell_type": "markdown",
      "source": [
        "## Uniform hits for each points"
      ],
      "metadata": {
        "id": "fftX07JmcgDg"
      }
    },
    {
      "cell_type": "markdown",
      "source": [
        "Random choose a point from the circle"
      ],
      "metadata": {
        "id": "AoAUD0huc8SN"
      }
    },
    {
      "cell_type": "code",
      "source": [
        "i = np.random.choice(200)\n",
        "x[i], y[i]"
      ],
      "metadata": {
        "colab": {
          "base_uri": "https://localhost:8080/"
        },
        "id": "SgH2b9wkcZnq",
        "outputId": "68351d18-202f-4397-bc22-2af1f1aa6b80"
      },
      "execution_count": 93,
      "outputs": [
        {
          "output_type": "execute_result",
          "data": {
            "text/plain": [
              "(-9.817158141151875, -17.42479285476919)"
            ]
          },
          "metadata": {},
          "execution_count": 93
        }
      ]
    },
    {
      "cell_type": "code",
      "source": [
        "fig = plt.figure(figsize=(8, 8))\n",
        "plt.scatter(x, y, s=5)  # plot points \n",
        "plt.plot(x[i], y[i], marker=\"o\", markersize=10, markeredgecolor=\"red\", markerfacecolor=\"green\")\n",
        "plt.show()"
      ],
      "metadata": {
        "colab": {
          "base_uri": "https://localhost:8080/",
          "height": 483
        },
        "id": "t3Wcs2mgZhDk",
        "outputId": "1804d432-9b86-423b-ad84-be9f3b8e191a"
      },
      "execution_count": 95,
      "outputs": [
        {
          "output_type": "display_data",
          "data": {
            "text/plain": [
              "<Figure size 576x576 with 1 Axes>"
            ],
            "image/png": "[encoded data removed]"
          },
          "metadata": {
            "needs_background": "light"
          }
        }
      ]
    },
    {
      "cell_type": "markdown",
      "source": [
        "Random choose several points from the circle"
      ],
      "metadata": {
        "id": "uvv0em8ibDFl"
      }
    },
    {
      "cell_type": "code",
      "source": [
        "i = np.random.choice(200, size = 10) # 10 points\n",
        "choose_x, choose_y = [], []\n",
        "for j in i:\n",
        "  choose_x.append(x[j])\n",
        "  choose_y.append(y[j])"
      ],
      "metadata": {
        "id": "BkatzapxbXVb"
      },
      "execution_count": 109,
      "outputs": []
    },
    {
      "cell_type": "code",
      "source": [
        "fig = plt.figure(figsize=(8, 8))\n",
        "plt.scatter(x, y, s=5)  # plot points \n",
        "plt.scatter(choose_x, choose_y)\n",
        "plt.show()"
      ],
      "metadata": {
        "colab": {
          "base_uri": "https://localhost:8080/",
          "height": 483
        },
        "id": "uNObBBktdnM7",
        "outputId": "934a6c2b-9506-4dc0-ce9f-6c2fe53b875c"
      },
      "execution_count": 110,
      "outputs": [
        {
          "output_type": "display_data",
          "data": {
            "text/plain": [
              "<Figure size 576x576 with 1 Axes>"
            ],
            "image/png": "[encoded data removed]"
          },
          "metadata": {
            "needs_background": "light"
          }
        }
      ]
    }
  ]
}